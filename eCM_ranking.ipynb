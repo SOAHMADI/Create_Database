{
 "cells": [
  {
   "cell_type": "code",
   "execution_count": 3,
   "metadata": {},
   "outputs": [],
   "source": [
    "import pandas as pd \n",
    "import sqlite3"
   ]
  },
  {
   "cell_type": "code",
   "execution_count": 4,
   "metadata": {},
   "outputs": [
    {
     "name": "stderr",
     "output_type": "stream",
     "text": [
      "C:\\Users\\SOAHMADI\\Anaconda3\\lib\\site-packages\\openpyxl\\styles\\stylesheet.py:221: UserWarning: Workbook contains no default style, apply openpyxl's default\n",
      "  warn(\"Workbook contains no default style, apply openpyxl's default\")\n"
     ]
    }
   ],
   "source": [
    "df_eCM_ranking = pd.read_excel(\"Y:\\\\TRADING\\\\MF-BO\\\\Databases\\\\eCM Ranking 2021-04.xlsx\", sheet_name=\"Match Version (%)\")"
   ]
  },
  {
   "cell_type": "code",
   "execution_count": 5,
   "metadata": {},
   "outputs": [],
   "source": [
    "df_eCM_ranking.drop(range(20), axis=0, inplace=True)"
   ]
  },
  {
   "cell_type": "code",
   "execution_count": 6,
   "metadata": {},
   "outputs": [],
   "source": [
    "col_names = [\"Organisation_Group_of_Traders\", \"Version_Matched_on_v1\", \"Version_Matched_on_more_than_V1\"]"
   ]
  },
  {
   "cell_type": "code",
   "execution_count": 7,
   "metadata": {},
   "outputs": [],
   "source": [
    "df_eCM_ranking.columns = col_names"
   ]
  },
  {
   "cell_type": "code",
   "execution_count": 8,
   "metadata": {},
   "outputs": [],
   "source": [
    "df_eCM_ranking.reset_index(inplace=True)"
   ]
  },
  {
   "cell_type": "code",
   "execution_count": 9,
   "metadata": {},
   "outputs": [],
   "source": [
    "df_eCM_ranking.drop(\"index\", axis=1, inplace=True)"
   ]
  },
  {
   "cell_type": "code",
   "execution_count": 10,
   "metadata": {},
   "outputs": [],
   "source": [
    "#df_eCM_ranking[\"Version_Matched_on_v1\"] = pd.Series([\"{0:.2f}%\".format(val * 100) for val in df_eCM_ranking[\"Version_Matched_on_v1\"]], index = df_eCM_ranking.index)\n",
    "#df_eCM_ranking[\"Version_Matched_on_more_than_V1\"] =  pd.Series([\"{0:.2f}%\".format(val * 100) for val in df_eCM_ranking[\"Version_Matched_on_more_than_V1\"]], index = df_eCM_ranking.index)"
   ]
  },
  {
   "cell_type": "code",
   "execution_count": 11,
   "metadata": {},
   "outputs": [],
   "source": [
    "df_eCM_ranking[\"Version_Matched_on_v1\"] = pd.Series([\"{0:.0f}%\".format(val * 100) for val in df_eCM_ranking[\"Version_Matched_on_v1\"]], index = df_eCM_ranking.index)\n",
    "df_eCM_ranking[\"Version_Matched_on_more_than_V1\"] =  pd.Series([\"{0:.0f}%\".format(val * 100) for val in df_eCM_ranking[\"Version_Matched_on_more_than_V1\"]], index = df_eCM_ranking.index)"
   ]
  },
  {
   "cell_type": "code",
   "execution_count": 12,
   "metadata": {},
   "outputs": [
    {
     "data": {
      "text/plain": [
       "'Organisation_Group_of_Traders,Version_Matched_on_v1,Version_Matched_on_more_than_V1'"
      ]
     },
     "execution_count": 12,
     "metadata": {},
     "output_type": "execute_result"
    }
   ],
   "source": [
    "column = df_eCM_ranking.columns \n",
    "column_formatting=(','.join(column))\n",
    "column_formatting"
   ]
  },
  {
   "cell_type": "code",
   "execution_count": 13,
   "metadata": {},
   "outputs": [],
   "source": [
    "conn = sqlite3.connect(\"EWE Aktiengesellschaft\\\\TR-BO - Dokumente\\\\eCM_Database\\\\eCM_Ranking.db\")"
   ]
  },
  {
   "cell_type": "code",
   "execution_count": 14,
   "metadata": {},
   "outputs": [],
   "source": [
    "c = conn.cursor()"
   ]
  },
  {
   "cell_type": "code",
   "execution_count": 15,
   "metadata": {},
   "outputs": [],
   "source": [
    "df_eCM_ranking.to_sql('Match_Version', con=conn)"
   ]
  },
  {
   "cell_type": "code",
   "execution_count": 497,
   "metadata": {
    "scrolled": true
   },
   "outputs": [
    {
     "name": "stdout",
     "output_type": "stream",
     "text": [
      "[(0, 'Rank 1', '100%', '0%'), (1, 'Rank 2', '100%', '0%'), (2, 'Rank 3', '100%', '0%'), (3, 'Rank 4', '100%', '0%'), (4, 'Rank 5', '100%', '0%'), (5, 'Rank 6', '100%', '0%'), (6, 'Rank 7', '100%', '0%'), (7, 'Rank 8', '100%', '0%'), (8, 'Rank 9', '100%', '0%'), (9, 'Rank 10', '100%', '0%'), (10, 'Rank 11', '100%', '0%'), (11, 'Rank 12', '100%', '0%'), (12, 'Rank 13', '100%', '0%'), (13, 'Rank 14', '100%', '0%'), (14, 'Rank 15', '100%', '0%'), (15, 'Rank 16', '100%', '0%'), (16, 'Rank 17', '100%', '0%'), (17, 'Rank 18', '100%', '0%'), (18, 'Rank 19', '100%', '0%'), (19, 'Rank 20', '100%', '0%'), (20, 'Rank 21', '100%', '0%'), (21, 'Rank 22', '100%', '0%'), (22, 'Rank 23', '100%', '0%'), (23, 'Rank 24', '100%', '0%'), (24, 'Rank 25', '100%', '0%'), (25, 'Rank 26', '100%', '0%'), (26, 'Rank 27', '100%', '0%'), (27, 'Rank 28', '100%', '0%'), (28, 'Rank 29', '100%', '0%'), (29, 'Rank 30', '100%', '0%'), (30, 'Rank 31', '100%', '0%'), (31, 'Rank 32', '100%', '0%'), (32, 'Rank 33', '100%', '0%'), (33, 'Rank 34', '100%', '0%'), (34, 'Rank 35', '100%', '0%'), (35, 'Rank 36', '100%', '0%'), (36, 'Rank 37', '100%', '0%'), (37, 'Rank 38', '100%', '0%'), (38, 'Rank 39', '100%', '0%'), (39, 'Rank 40', '100%', '0%'), (40, 'Rank 41', '100%', '0%'), (41, 'Rank 42', '100%', '0%'), (42, 'Rank 43', '100%', '0%'), (43, 'Rank 44', '100%', '0%'), (44, 'Rank 45', '100%', '0%'), (45, 'Rank 46', '100%', '0%'), (46, 'Rank 47', '100%', '0%'), (47, 'Rank 48', '100%', '0%'), (48, 'Rank 49', '100%', '0%'), (49, 'Rank 50', '100%', '0%'), (50, 'Rank 51', '99%', '1%'), (51, 'Rank 52', '99%', '1%'), (52, 'Rank 53', '99%', '1%'), (53, 'Rank 54', '99%', '1%'), (54, 'Rank 55', '99%', '1%'), (55, 'Rank 56', '99%', '1%'), (56, 'Rank 57', '99%', '1%'), (57, 'Rank 58', '99%', '1%'), (58, 'Rank 59', '99%', '1%'), (59, 'Rank 60', '99%', '1%'), (60, 'Rank 61', '99%', '1%'), (61, 'Rank 62', '99%', '1%'), (62, 'Rank 63', '99%', '1%'), (63, 'Rank 64', '99%', '1%'), (64, 'Rank 65', '99%', '1%'), (65, 'Rank 66', '99%', '1%'), (66, 'Rank 67', '99%', '1%'), (67, 'Rank 68', '99%', '1%'), (68, 'Rank 69', '99%', '1%'), (69, 'Rank 70', '99%', '1%'), (70, 'Rank 71', '99%', '1%'), (71, 'Rank 72', '99%', '1%'), (72, 'Rank 73', '99%', '1%'), (73, 'Rank 74', '99%', '1%'), (74, 'Rank 75', '99%', '1%'), (75, 'Rank 76', '99%', '1%'), (76, 'Rank 77', '99%', '1%'), (77, 'Rank 78', '99%', '1%'), (78, 'Rank 79', '98%', '2%'), (79, 'Rank 80', '98%', '2%'), (80, 'Rank 81', '98%', '2%'), (81, 'Rank 82', '98%', '2%'), (82, 'Rank 83', '98%', '2%'), (83, 'Rank 84', '98%', '2%'), (84, 'Rank 85', '98%', '2%'), (85, 'Rank 86', '98%', '2%'), (86, 'Rank 87', '97%', '3%'), (87, 'Rank 88', '97%', '3%'), (88, 'Rank 89', '97%', '3%'), (89, 'Rank 90', '96%', '4%'), (90, 'Rank 91', '96%', '4%'), (91, 'Rank 92', '95%', '5%'), (92, 'Rank 93', '95%', '5%'), (93, 'Rank 94', '95%', '5%'), (94, 'Rank 95', '95%', '5%'), (95, 'Rank 96', '94%', '6%'), (96, 'Rank 97', '94%', '6%'), (97, 'Rank 98', '94%', '6%'), (98, 'Rank 99', '94%', '6%'), (99, 'Rank 100', '93%', '7%'), (100, 'Rank 101', '93%', '7%'), (101, 'Rank 102', '92%', '8%'), (102, 'Rank 103', '92%', '8%'), (103, 'Rank 104', '89%', '11%'), (104, 'Rank 105', '89%', '11%'), (105, 'Rank 106', '77%', '23%'), (106, 'Rank 107', '76%', '24%'), (107, 'Rank 108', '75%', '25%'), (108, 'Rank 109', '68%', '32%'), (109, 'Rank 110', '68%', '32%'), (110, 'Rank 111', '62%', '38%'), (111, 'Rank 112', '61%', '39%'), (112, 'Rank 113', '48%', '52%'), (113, 'Rank 114', '37%', '63%'), (114, 'Rank 115', '35%', '65%'), (115, 'Rank 116', '5%', '95%'), (116, 'Rank 117', '0%', '100%'), (117, 'Rank 118', '0%', '100%'), (118, 'Rank 119', '0%', '100%')]\n"
     ]
    }
   ],
   "source": [
    "conn = sqlite3.connect(\"C:\\\\Neuer Ordner\\\\eCM_Ranking.db\")\n",
    "cursor = conn.cursor()\n",
    "cursor.execute(\"SELECT * FROM Match_Version\")\n",
    "print(cursor.fetchall())"
   ]
  },
  {
   "cell_type": "code",
   "execution_count": 2,
   "metadata": {},
   "outputs": [
    {
     "name": "stdout",
     "output_type": "stream",
     "text": [
      "   index Organisation_Group_of_Traders Version_Matched_on_v1  \\\n",
      "0      0                        Rank 1                  100%   \n",
      "1      1                        Rank 2                  100%   \n",
      "2      2                        Rank 3                  100%   \n",
      "3      3                        Rank 4                  100%   \n",
      "4      4                        Rank 5                  100%   \n",
      "\n",
      "  Version_Matched_on_more_than_V1  \n",
      "0                              0%  \n",
      "1                              0%  \n",
      "2                              0%  \n",
      "3                              0%  \n",
      "4                              0%  \n"
     ]
    }
   ],
   "source": [
    "import pandas as pd\n",
    "import sqlite3\n",
    "\n",
    "# Read sqlite query results into a pandas DataFrame\n",
    "con = sqlite3.connect(\"C:\\\\Neuer Ordner\\\\eCM_Ranking.db\")\n",
    "df = pd.read_sql_query(\"SELECT * from Match_Version\", con)\n",
    "\n",
    "# Verify that result of SQL query is stored in the dataframe\n",
    "print(df.head())\n",
    "\n",
    "con.close()"
   ]
  },
  {
   "cell_type": "code",
   "execution_count": 359,
   "metadata": {},
   "outputs": [
    {
     "ename": "OperationalError",
     "evalue": "table eCM has no column named test",
     "output_type": "error",
     "traceback": [
      "\u001b[1;31m---------------------------------------------------------------------------\u001b[0m",
      "\u001b[1;31mOperationalError\u001b[0m                          Traceback (most recent call last)",
      "\u001b[1;32m<ipython-input-359-2f6c31719328>\u001b[0m in \u001b[0;36m<module>\u001b[1;34m\u001b[0m\n\u001b[0;32m      1\u001b[0m \u001b[1;32mfor\u001b[0m \u001b[0mrow\u001b[0m \u001b[1;32min\u001b[0m \u001b[0mdf_eCM_ranking\u001b[0m\u001b[1;33m.\u001b[0m\u001b[0miterrows\u001b[0m\u001b[1;33m(\u001b[0m\u001b[1;33m)\u001b[0m\u001b[1;33m:\u001b[0m\u001b[1;33m\u001b[0m\u001b[1;33m\u001b[0m\u001b[0m\n\u001b[0;32m      2\u001b[0m     \u001b[0msql\u001b[0m \u001b[1;33m=\u001b[0m \u001b[1;34m\"INSERT INTO eCM({}) VALUES ({})\"\u001b[0m\u001b[1;33m.\u001b[0m\u001b[0mformat\u001b[0m\u001b[1;33m(\u001b[0m\u001b[1;34m\"test\"\u001b[0m\u001b[1;33m,\u001b[0m \u001b[1;34m\",\"\u001b[0m\u001b[1;33m.\u001b[0m\u001b[0mjoin\u001b[0m\u001b[1;33m(\u001b[0m\u001b[1;33m[\u001b[0m\u001b[1;34m\"?\"\u001b[0m\u001b[1;33m]\u001b[0m\u001b[1;33m*\u001b[0m\u001b[0mlen\u001b[0m\u001b[1;33m(\u001b[0m\u001b[0mdf_eCM_ranking\u001b[0m\u001b[1;33m.\u001b[0m\u001b[0mcolumns\u001b[0m\u001b[1;33m)\u001b[0m\u001b[1;33m)\u001b[0m\u001b[1;33m)\u001b[0m\u001b[1;33m\u001b[0m\u001b[1;33m\u001b[0m\u001b[0m\n\u001b[1;32m----> 3\u001b[1;33m     \u001b[0mc\u001b[0m\u001b[1;33m.\u001b[0m\u001b[0mexecute\u001b[0m\u001b[1;33m(\u001b[0m\u001b[0msql\u001b[0m\u001b[1;33m,\u001b[0m \u001b[0mtuple\u001b[0m\u001b[1;33m(\u001b[0m\u001b[0mrow\u001b[0m\u001b[1;33m[\u001b[0m\u001b[1;36m1\u001b[0m\u001b[1;33m]\u001b[0m\u001b[1;33m)\u001b[0m\u001b[1;33m)\u001b[0m\u001b[1;33m\u001b[0m\u001b[1;33m\u001b[0m\u001b[0m\n\u001b[0m\u001b[0;32m      4\u001b[0m \u001b[0mconn\u001b[0m\u001b[1;33m.\u001b[0m\u001b[0mcommit\u001b[0m\u001b[1;33m(\u001b[0m\u001b[1;33m)\u001b[0m\u001b[1;33m\u001b[0m\u001b[1;33m\u001b[0m\u001b[0m\n",
      "\u001b[1;31mOperationalError\u001b[0m: table eCM has no column named test"
     ]
    }
   ],
   "source": [
    "for row in df_eCM_ranking.iterrows():\n",
    "    sql = \"INSERT INTO eCM({}) VALUES ({})\".format(\"test\", \",\".join([\"?\"]*len(df_eCM_ranking.columns)))\n",
    "    c.execute(sql, tuple(row[1]))\n",
    "conn.commit()"
   ]
  },
  {
   "cell_type": "code",
   "execution_count": 319,
   "metadata": {},
   "outputs": [
    {
     "name": "stdout",
     "output_type": "stream",
     "text": [
      "[]\n"
     ]
    }
   ],
   "source": [
    "con = sqlite3.connect(\"eCM.db\")\n",
    "cursor = con.cursor()\n",
    "cursor. execute(\"SELECT * FROM sqlite_master\")\n",
    "print(cursor. fetchall())"
   ]
  },
  {
   "cell_type": "code",
   "execution_count": 274,
   "metadata": {},
   "outputs": [],
   "source": [
    "def prepare_dataframe(df):\n",
    "    df = df.drop(columns=[\"Unnamed: 0\"])\n",
    "    column_names = df.iloc[0] \n",
    "    df = df.drop([0])\n",
    "    df.columns = column_names\n",
    "    return df"
   ]
  },
  {
   "cell_type": "code",
   "execution_count": 6,
   "metadata": {},
   "outputs": [],
   "source": [
    "EFETBox_prepared = prepare_dataframe(df_EFETBox)"
   ]
  },
  {
   "cell_type": "code",
   "execution_count": 7,
   "metadata": {
    "scrolled": true
   },
   "outputs": [],
   "source": [
    "def prepare_dataframe_columns(df_prepared):\n",
    "    column_formatting = (','.join(df_prepared.columns)).replace(\" \", \"_\")\n",
    "    column_formatting = column_formatting.replace(\".\", \"\")\n",
    "    return column_formatting"
   ]
  },
  {
   "cell_type": "code",
   "execution_count": 8,
   "metadata": {},
   "outputs": [
    {
     "data": {
      "text/plain": [
       "'Transfer_Date,Local_Party,Local_Party_Display_Name,Dir,Counterparty,Counterparty_Display_Name,Trade_ID,Document_ID,Version,State,Broker_State,Buyer,Buyer_Display_Name,Seller,Seller_Display_Name,Commodity,Market,Trans_Type,Del_Point_Area,Del_Point_Area_Display_Name,Trade_Date,Total_Contr_Value,Currency,Load_Type,Agreement,Total_Volume,Total_Volume_Unit,Capacity_Unit,Price,Price_Curr_Unit,Price_Cap_Unit,Perform,Effective_Date,Termination_Date,Index_Commodity,Formula_ID,Timeout,Broker_Timeout,Broker_ID,Doc_Usage'"
      ]
     },
     "execution_count": 8,
     "metadata": {},
     "output_type": "execute_result"
    }
   ],
   "source": [
    "columns = prepare_dataframe_columns(EFETBox_prepared)\n",
    "columns"
   ]
  },
  {
   "cell_type": "code",
   "execution_count": 9,
   "metadata": {},
   "outputs": [],
   "source": [
    "conn = sqlite3.connect(\"C:\\\\Neuer Ordner\\\\Confirmations.db\")"
   ]
  },
  {
   "cell_type": "code",
   "execution_count": 10,
   "metadata": {},
   "outputs": [],
   "source": [
    "c = conn.cursor()"
   ]
  },
  {
   "cell_type": "code",
   "execution_count": 11,
   "metadata": {},
   "outputs": [
    {
     "data": {
      "text/plain": [
       "<sqlite3.Cursor at 0x22d1dccef80>"
      ]
     },
     "execution_count": 11,
     "metadata": {},
     "output_type": "execute_result"
    }
   ],
   "source": [
    "\n",
    "c.execute(\"CREATE TABLE IF NOT EXISTS effetnet({})\".format(columns))\n"
   ]
  },
  {
   "cell_type": "code",
   "execution_count": 13,
   "metadata": {},
   "outputs": [],
   "source": [
    "for row in EFETBox_prepared.iterrows():\n",
    "    sql = \"INSERT INTO effetnet({}) VALUES ({})\".format(columns, \",\".join([\"?\"]*len(EFETBox_prepared.columns)))\n",
    "    c.execute(sql, tuple(row[1]))\n",
    "conn.commit()"
   ]
  },
  {
   "cell_type": "code",
   "execution_count": 343,
   "metadata": {},
   "outputs": [
    {
     "name": "stdout",
     "output_type": "stream",
     "text": [
      "(1, 99, 123)\n",
      "(1, 99, 123)\n"
     ]
    }
   ],
   "source": [
    "import sqlite3\n",
    "\n",
    "def create():\n",
    "    try:\n",
    "        c.execute(\"\"\"CREATE TABLE mytable\n",
    "                 (start, end, score)\"\"\")\n",
    "    except:\n",
    "        pass\n",
    "\n",
    "def insert():\n",
    "    c.execute(\"\"\"INSERT INTO mytable (start, end, score)\n",
    "              values(1, 99, 123)\"\"\")\n",
    "\n",
    "def select(verbose=True):\n",
    "    sql = \"SELECT * FROM mytable\"\n",
    "    recs = c.execute(sql)\n",
    "    if verbose:\n",
    "        for row in recs:\n",
    "            print(row)\n",
    "\n",
    "#db_path = r'C:\\Users\\Prosserc\\Documents\\Geocoding\\test.db'\n",
    "conn = sqlite3.connect(\"C:\\\\Neuer Ordner\\\\Confirmations.db\")\n",
    "c = conn.cursor()\n",
    "create()\n",
    "insert()\n",
    "conn.commit() #commit needed\n",
    "select()\n",
    "c.close()"
   ]
  },
  {
   "cell_type": "code",
   "execution_count": 344,
   "metadata": {},
   "outputs": [
    {
     "name": "stdout",
     "output_type": "stream",
     "text": [
      "[(1, 99, 123), (1, 99, 123)]\n"
     ]
    }
   ],
   "source": [
    "conn = sqlite3.connect(\"C:\\\\Neuer Ordner\\\\Confirmations.db\")\n",
    "cursor = conn.cursor()\n",
    "cursor.execute(\"SELECT * FROM mytable\")\n",
    "print(cursor.fetchall())"
   ]
  },
  {
   "cell_type": "code",
   "execution_count": null,
   "metadata": {},
   "outputs": [],
   "source": []
  },
  {
   "cell_type": "code",
   "execution_count": null,
   "metadata": {},
   "outputs": [],
   "source": []
  }
 ],
 "metadata": {
  "kernelspec": {
   "display_name": "Python 3",
   "language": "python",
   "name": "python3"
  },
  "language_info": {
   "codemirror_mode": {
    "name": "ipython",
    "version": 3
   },
   "file_extension": ".py",
   "mimetype": "text/x-python",
   "name": "python",
   "nbconvert_exporter": "python",
   "pygments_lexer": "ipython3",
   "version": "3.8.5"
  }
 },
 "nbformat": 4,
 "nbformat_minor": 4
}
